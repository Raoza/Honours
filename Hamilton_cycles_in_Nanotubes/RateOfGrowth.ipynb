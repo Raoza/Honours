{
 "cells": [
  {
   "cell_type": "code",
   "execution_count": 14,
   "id": "924ede35",
   "metadata": {},
   "outputs": [
    {
     "name": "stdout",
     "output_type": "stream",
     "text": [
      "Eigenvalue: -2\n",
      "Eigenvector(s): [\n",
      "(1, -1/2, -1/2, -1/2, 0)\n",
      "]\n",
      "Multiplicity: 1\n",
      "----------------------------------------------------------------------------------------------------------\n",
      "Eigenvalue: 0\n",
      "Eigenvector(s): [\n",
      "(1, 0, 0, -1, -1),\n",
      "(0, 0, 1, -1, 0)\n",
      "]\n",
      "Multiplicity: 2\n",
      "----------------------------------------------------------------------------------------------------------\n",
      "Eigenvalue: -0.8284271247461901?\n",
      "Eigenvector(s): [(1, -0.2071067811865476?, -0.2071067811865476?, -0.2071067811865476?, -1.414213562373095?)]\n",
      "Multiplicity: 1\n",
      "----------------------------------------------------------------------------------------------------------\n",
      "Eigenvalue: 4.828427124746190?\n",
      "Eigenvector(s): [(1, 1.207106781186548?, 1.207106781186548?, 1.207106781186548?, 1.414213562373095?)]\n",
      "Multiplicity: 1\n",
      "----------------------------------------------------------------------------------------------------------\n"
     ]
    }
   ],
   "source": [
    "# Define the matrix using SageMath\n",
    "M = Matrix([\n",
    "    [0, 4, 0, 0, 0],\n",
    "    [2, 0, 1, 1, 1],\n",
    "    [2, 0, 1, 1, 1],\n",
    "    [2, 0, 1, 1, 1],\n",
    "    [2, 0, 2, 2, 0]\n",
    "])\n",
    "\n",
    "eigenvectors = M.eigenvectors_right()\n",
    "\n",
    "\n",
    "for eigenvalue, eigenvector, multiplicity in eigenvectors:\n",
    "    print(\"Eigenvalue:\", eigenvalue)\n",
    "    print(\"Eigenvector(s):\", eigenvector)\n",
    "    print(\"Multiplicity:\", multiplicity)\n",
    "    print(\"----------------------------------------------------------------------------------------------------------\")"
   ]
  },
  {
   "cell_type": "code",
   "execution_count": 15,
   "id": "373ce5c0",
   "metadata": {},
   "outputs": [
    {
     "name": "stdout",
     "output_type": "stream",
     "text": [
      "Eigenvalue: 0\n",
      "Eigenvector(s): [\n",
      "(1, 0, 0, -1, 0, 0, -1, 0, 1, 0),\n",
      "(0, 1, 0, 0, 0, 0, 0, -1, 0, 0),\n",
      "(0, 0, 1, 0, 0, 0, 0, 0, -1, 0)\n",
      "]\n",
      "Multiplicity: 6\n",
      "----------------------------------------------------------------------------------------------------------\n",
      "Eigenvalue: -5.226251859505506?\n",
      "Eigenvector(s): [(1, -2.021145978436595?, 1.867295401695068?, 2.093836321356055?, -2.858332054240871?, -1.183959902632318?, 2.093836321356055?, -2.021145978436595?, 3.508049883729150?, -2.858332054240871?)]\n",
      "Multiplicity: 1\n",
      "----------------------------------------------------------------------------------------------------------\n",
      "Eigenvalue: -2.164784400584788?\n",
      "Eigenvector(s): [(1, -0.3998335816727453?, -0.1530096874093536?, 0.4775922500725171?, 0.5654500738938069?, -1.365117237239298?, 0.4775922500725171?, -0.3998335816727453?, -0.9366213123005779?, 0.5654500738938069?)]\n",
      "Multiplicity: 1\n",
      "----------------------------------------------------------------------------------------------------------\n",
      "Eigenvalue: 2.164784400584788?\n",
      "Eigenvector(s): [(1, 0.3998335816727453?, -0.1530096874093536?, 0.4775922500725171?, -0.5654500738938069?, 1.365117237239298?, 0.4775922500725171?, 0.3998335816727453?, -0.9366213123005779?, -0.5654500738938069?)]\n",
      "Multiplicity: 1\n",
      "----------------------------------------------------------------------------------------------------------\n",
      "Eigenvalue: 5.226251859505506?\n",
      "Eigenvector(s): [(1, 2.021145978436595?, 1.867295401695068?, 2.093836321356055?, 2.858332054240871?, 1.183959902632318?, 2.093836321356055?, 2.021145978436595?, 3.508049883729150?, 2.858332054240871?)]\n",
      "Multiplicity: 1\n",
      "----------------------------------------------------------------------------------------------------------\n"
     ]
    }
   ],
   "source": [
    "# Define the matrix using SageMath\n",
    "M = Matrix([\n",
    "    [0, 0, 0, 0, 0, 2, 0, 0, 0, 1],\n",
    "    [1, 0, 1, 0, 0, 0, 2, 0, 1, 0],\n",
    "    [0, 0, 0, 0, 0, 1, 0, 0, 0, 3],\n",
    "    [0, 2, 0, 0, 1, 0, 0, 2, 0, 0],\n",
    "    [0, 0, 2, 1, 0, 0, 1, 0, 2, 0],\n",
    "    [2, 0, 0, 1, 0, 0, 1, 0, 0, 0],\n",
    "    [0, 2, 0, 0, 1, 0, 0, 2, 0, 0],\n",
    "    [1, 0, 1, 2, 0, 0, 0, 0, 1, 0],\n",
    "    [0, 1, 0, 0, 5, 0, 0, 1, 0, 0],\n",
    "    [0, 0, 2, 1, 0, 0, 1, 0, 2, 0]\n",
    "])\n",
    "\n",
    "# Compute the eigenvectors\n",
    "eigenvectors = M.eigenvectors_right()\n",
    "\n",
    "# Print the eigenvectors\n",
    "for eigenvalue, eigenvector, multiplicity in eigenvectors:\n",
    "    print(\"Eigenvalue:\", eigenvalue)\n",
    "    print(\"Eigenvector(s):\", eigenvector)\n",
    "    print(\"Multiplicity:\", multiplicity)\n",
    "    print(\"----------------------------------------------------------------------------------------------------------\")"
   ]
  },
  {
   "cell_type": "code",
   "execution_count": 23,
   "id": "d094c01d",
   "metadata": {},
   "outputs": [
    {
     "name": "stdout",
     "output_type": "stream",
     "text": [
      "5.226251859505506?\n",
      "4.828427124746190?\n"
     ]
    }
   ],
   "source": [
    "M_type_4 = Matrix([\n",
    "    [0, 0, 0, 0, 0, 2, 0, 0, 0, 1],\n",
    "    [1, 0, 1, 0, 0, 0, 2, 0, 1, 0],\n",
    "    [0, 0, 0, 0, 0, 1, 0, 0, 0, 3],\n",
    "    [0, 2, 0, 0, 1, 0, 0, 2, 0, 0],\n",
    "    [0, 0, 2, 1, 0, 0, 1, 0, 2, 0],\n",
    "    [2, 0, 0, 1, 0, 0, 1, 0, 0, 0],\n",
    "    [0, 2, 0, 0, 1, 0, 0, 2, 0, 0],\n",
    "    [1, 0, 1, 2, 0, 0, 0, 0, 1, 0],\n",
    "    [0, 1, 0, 0, 5, 0, 0, 1, 0, 0],\n",
    "    [0, 0, 2, 1, 0, 0, 1, 0, 2, 0]\n",
    "])\n",
    "\n",
    "M_type_6 = Matrix([\n",
    "    [0, 4, 0, 0, 0],\n",
    "    [2, 0, 1, 1, 1],\n",
    "    [2, 0, 1, 1, 1],\n",
    "    [2, 0, 1, 1, 1],\n",
    "    [2, 0, 2, 2, 0]\n",
    "])\n",
    "\n",
    "eigenspace_type_4 = M_type_4.eigenvectors_right()\n",
    "eigenspace_type_6 = M_type_6.eigenvectors_right()\n",
    "\n",
    "\n",
    "largest_eigenvalue_type_4 = max(eigenspace_type_4, key=lambda x: x[0])[0]\n",
    "largest_eigenvector_type_4 = max(eigenspace_type_4, key=lambda x: x[0])[1][0]\n",
    "\n",
    "largest_eigenvalue_type_6 = max(eigenspace_type_6, key=lambda x: x[0])[0]\n",
    "largest_eigenvector_type_6 = max(eigenspace_type_6, key=lambda x: x[0])[1][0]\n",
    "\n",
    "print(largest_eigenvalue_type_4)\n",
    "print(largest_eigenvalue_type_6)"
   ]
  },
  {
   "cell_type": "code",
   "execution_count": 24,
   "id": "6e71b06a",
   "metadata": {},
   "outputs": [
    {
     "name": "stdout",
     "output_type": "stream",
     "text": [
      "5.226251859505506?\n",
      "1.05474515291054\n",
      "1.01265948324968\n"
     ]
    }
   ],
   "source": [
    "# asymptotic behavior will be influenced by the largest eigenvalue\n",
    "lambda_1_N7 = max(largest_eigenvalue_type_4, largest_eigenvalue_type_6)\n",
    "print(lambda_1_N7)\n",
    "\n",
    "#Compare largest eigenvalues \n",
    "growth_comparison_N5 = (lambda_1_N7 / 2.75689278) ** (1/12)\n",
    "growth_comparison_N6 = (lambda_1_N7 / 4.493959207) ** (1/12)\n",
    "\n",
    "print(growth_comparison_N5)\n",
    "print(growth_comparison_N6)"
   ]
  },
  {
   "cell_type": "code",
   "execution_count": 26,
   "id": "e2150152",
   "metadata": {},
   "outputs": [
    {
     "ename": "ValueError",
     "evalue": "matrix equation has no solutions",
     "output_type": "error",
     "traceback": [
      "\u001b[0;31m---------------------------------------------------------------------------\u001b[0m",
      "\u001b[0;31mValueError\u001b[0m                                Traceback (most recent call last)",
      "\u001b[0;32m/tmp/ipykernel_1866/1731694325.py\u001b[0m in \u001b[0;36m<module>\u001b[0;34m\u001b[0m\n\u001b[1;32m      7\u001b[0m \u001b[0;34m\u001b[0m\u001b[0m\n\u001b[1;32m      8\u001b[0m \u001b[0mSOLS4\u001b[0m \u001b[0;34m=\u001b[0m \u001b[0mMatrix\u001b[0m\u001b[0;34m(\u001b[0m\u001b[0meigenvectors_type_4\u001b[0m\u001b[0;34m)\u001b[0m\u001b[0;34m.\u001b[0m\u001b[0mtranspose\u001b[0m\u001b[0;34m(\u001b[0m\u001b[0;34m)\u001b[0m\u001b[0;34m\u001b[0m\u001b[0;34m\u001b[0m\u001b[0m\n\u001b[0;32m----> 9\u001b[0;31m \u001b[0malpha1_4\u001b[0m \u001b[0;34m=\u001b[0m \u001b[0mSOLS4\u001b[0m\u001b[0;34m.\u001b[0m\u001b[0msolve_right\u001b[0m\u001b[0;34m(\u001b[0m\u001b[0mv_s4\u001b[0m\u001b[0;34m)\u001b[0m\u001b[0;34m\u001b[0m\u001b[0;34m\u001b[0m\u001b[0m\n\u001b[0m\u001b[1;32m     10\u001b[0m \u001b[0mprint\u001b[0m\u001b[0;34m(\u001b[0m\u001b[0malpha1_4\u001b[0m\u001b[0;34m)\u001b[0m\u001b[0;34m\u001b[0m\u001b[0;34m\u001b[0m\u001b[0m\n\u001b[1;32m     11\u001b[0m \u001b[0;34m\u001b[0m\u001b[0m\n",
      "\u001b[0;32m/usr/lib/python3/dist-packages/sage/matrix/matrix2.pyx\u001b[0m in \u001b[0;36msage.matrix.matrix2.Matrix.solve_right (build/cythonized/sage/matrix/matrix2.c:8650)\u001b[0;34m()\u001b[0m\n\u001b[1;32m    844\u001b[0m \u001b[0;34m\u001b[0m\u001b[0m\n\u001b[1;32m    845\u001b[0m         \u001b[0;32mif\u001b[0m \u001b[0;32mnot\u001b[0m \u001b[0mself\u001b[0m\u001b[0;34m.\u001b[0m\u001b[0mis_square\u001b[0m\u001b[0;34m(\u001b[0m\u001b[0;34m)\u001b[0m\u001b[0;34m:\u001b[0m\u001b[0;34m\u001b[0m\u001b[0;34m\u001b[0m\u001b[0m\n\u001b[0;32m--> 846\u001b[0;31m             \u001b[0mX\u001b[0m \u001b[0;34m=\u001b[0m \u001b[0mself\u001b[0m\u001b[0;34m.\u001b[0m\u001b[0m_solve_right_general\u001b[0m\u001b[0;34m(\u001b[0m\u001b[0mC\u001b[0m\u001b[0;34m,\u001b[0m \u001b[0mcheck\u001b[0m\u001b[0;34m=\u001b[0m\u001b[0mcheck\u001b[0m\u001b[0;34m)\u001b[0m\u001b[0;34m\u001b[0m\u001b[0;34m\u001b[0m\u001b[0m\n\u001b[0m\u001b[1;32m    847\u001b[0m         \u001b[0;32melse\u001b[0m\u001b[0;34m:\u001b[0m\u001b[0;34m\u001b[0m\u001b[0;34m\u001b[0m\u001b[0m\n\u001b[1;32m    848\u001b[0m             \u001b[0;32mtry\u001b[0m\u001b[0;34m:\u001b[0m\u001b[0;34m\u001b[0m\u001b[0;34m\u001b[0m\u001b[0m\n",
      "\u001b[0;32m/usr/lib/python3/dist-packages/sage/matrix/matrix2.pyx\u001b[0m in \u001b[0;36msage.matrix.matrix2.Matrix._solve_right_general (build/cythonized/sage/matrix/matrix2.c:9989)\u001b[0;34m()\u001b[0m\n\u001b[1;32m    967\u001b[0m             \u001b[0;31m# Have to check that we actually solved the equation.\u001b[0m\u001b[0;34m\u001b[0m\u001b[0;34m\u001b[0m\u001b[0m\n\u001b[1;32m    968\u001b[0m             \u001b[0;32mif\u001b[0m \u001b[0mself\u001b[0m\u001b[0;34m*\u001b[0m\u001b[0mX\u001b[0m \u001b[0;34m!=\u001b[0m \u001b[0mB\u001b[0m\u001b[0;34m:\u001b[0m\u001b[0;34m\u001b[0m\u001b[0;34m\u001b[0m\u001b[0m\n\u001b[0;32m--> 969\u001b[0;31m                 \u001b[0;32mraise\u001b[0m \u001b[0mValueError\u001b[0m\u001b[0;34m(\u001b[0m\u001b[0;34m\"matrix equation has no solutions\"\u001b[0m\u001b[0;34m)\u001b[0m\u001b[0;34m\u001b[0m\u001b[0;34m\u001b[0m\u001b[0m\n\u001b[0m\u001b[1;32m    970\u001b[0m         \u001b[0;32mreturn\u001b[0m \u001b[0mX\u001b[0m\u001b[0;34m\u001b[0m\u001b[0;34m\u001b[0m\u001b[0m\n\u001b[1;32m    971\u001b[0m \u001b[0;34m\u001b[0m\u001b[0m\n",
      "\u001b[0;31mValueError\u001b[0m: matrix equation has no solutions"
     ]
    }
   ],
   "source": [
    "eigenvectors_type_4 = [eigen[1][0] for eigen in eigenspace_type_4]\n",
    "eigenvectors_type_6 = [eigen[1][0] for eigen in eigenspace_type_6]\n",
    "\n",
    "# Define the vectors v_s4 and v_s6\n",
    "v_s4 = vector([0, 0, 0, 0, 0, 7, 0, 0, 0, 7])\n",
    "v_s6 = vector([0, 7, 0, 0, 0])\n",
    "\n",
    "SOLS4 = Matrix(eigenvectors_type_4).transpose()\n",
    "alpha1_4 = SOLS4.solve_right(v_s4)\n",
    "print(alpha1_4)\n",
    "\n",
    "SOLS6 = Matrix(eigenvectors_type_6).transpose()\n",
    "alpha1_6 = SOLS6.solve_right(v_s6)\n",
    "print(alpha1_6)\n"
   ]
  },
  {
   "cell_type": "code",
   "execution_count": null,
   "id": "690030b6",
   "metadata": {},
   "outputs": [],
   "source": []
  },
  {
   "cell_type": "code",
   "execution_count": null,
   "id": "105f950d",
   "metadata": {},
   "outputs": [],
   "source": []
  }
 ],
 "metadata": {
  "kernelspec": {
   "display_name": "SageMath 9.5",
   "language": "sage",
   "name": "sagemath"
  },
  "language_info": {
   "codemirror_mode": {
    "name": "ipython",
    "version": 3
   },
   "file_extension": ".py",
   "mimetype": "text/x-python",
   "name": "python",
   "nbconvert_exporter": "python",
   "pygments_lexer": "ipython3",
   "version": "3.10.12"
  }
 },
 "nbformat": 4,
 "nbformat_minor": 5
}
