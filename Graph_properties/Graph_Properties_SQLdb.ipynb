{
 "cells": [
  {
   "cell_type": "code",
   "execution_count": 1,
   "id": "deb6f867",
   "metadata": {},
   "outputs": [],
   "source": [
    "import sqlite3\n",
    "rc = sqlite3.connect(\"/root/testgraphs.db\")\n",
    "cur = rc.cursor()\n",
    "#cur.execute(\"SELECT g6string FROM testgraphs\")\n",
    "cur.execute(\"SELECT g6string FROM testgraphs WHERE girth IS NULL OR girth = ''\")\n",
    "rows = cur.fetchall()\n",
    "\n",
    "for row in rows:\n",
    "    g6_string = row[0]\n",
    "    G = Graph(g6_string)\n",
    "    try:\n",
    "        girth = G.girth()\n",
    "    except ValueError:\n",
    "        girth = 0 \n",
    "        \n",
    "    cur.execute(\"UPDATE testgraphs SET girth = ? WHERE g6string = ?\", (girth, g6_string))\n",
    "    \n",
    "rc.commit()\n",
    "rc.close()"
   ]
  },
  {
   "cell_type": "code",
   "execution_count": 2,
   "id": "5a205262",
   "metadata": {},
   "outputs": [],
   "source": [
    "import sqlite3\n",
    "from sage.graphs.planarity import is_planar\n",
    "\n",
    "rc = sqlite3.connect(\"/root/testgraphs.db\")\n",
    "cur = rc.cursor()\n",
    "cur.execute(\"SELECT g6string FROM testgraphs WHERE is_planar IS NULL OR is_planar = ''\")\n",
    "rows = cur.fetchall()\n",
    "\n",
    "for row in rows:\n",
    "    g6_string = row[0]\n",
    "    G = Graph(g6_string)\n",
    "    try:\n",
    "        planar_status = is_planar(G)\n",
    "        planar = int(1) if planar_status else int(0)\n",
    "    except ValueError:\n",
    "        is_planar = 'Error'\n",
    "        \n",
    "    cur.execute(\"UPDATE testgraphs SET is_planar = ? WHERE g6string = ?\", (planar, g6_string))\n",
    "    \n",
    "rc.commit()\n",
    "rc.close()"
   ]
  },
  {
   "cell_type": "code",
   "execution_count": null,
   "id": "f99415cd",
   "metadata": {},
   "outputs": [],
   "source": [
    "import sqlite3\n",
    "\n",
    "rc = sqlite3.connect(\"/root/testgraphs.db\")\n",
    "cur = rc.cursor()\n",
    "cur.execute(\"SELECT g6string FROM testgraphs WHERE is_bipartite IS NULL OR is_bipartite = ''\")\n",
    "rows = cur.fetchall()\n",
    "\n",
    "for row in rows:\n",
    "    g6_string = row[0]\n",
    "    G = Graph(g6_string)\n",
    "    try:\n",
    "        bipartite_status = G.is_bipartite()\n",
    "        bipartite = int(1) if bipartite_status else int(0)\n",
    "    except ValueError:\n",
    "        is_bipartite = 'Error'\n",
    "        \n",
    "    cur.execute(\"UPDATE testgraphs SET is_bipartite = ? WHERE g6string = ?\", (bipartite, g6_string))\n",
    "    \n",
    "rc.commit()\n",
    "rc.close()"
   ]
  },
  {
   "cell_type": "code",
   "execution_count": 4,
   "id": "aa232b19",
   "metadata": {},
   "outputs": [],
   "source": [
    "import sqlite3\n",
    "\n",
    "rc = sqlite3.connect(\"/root/testgraphs.db\")\n",
    "cur = rc.cursor()\n",
    "cur.execute(\"SELECT g6string FROM testgraphs WHERE symmetries IS NULL or symmetries = ''\")\n",
    "rows = cur.fetchall()\n",
    "\n",
    "for row in rows:\n",
    "    g6_string = row[0]\n",
    "    G = Graph(g6_string)\n",
    "    autG = G.automorphism_group()\n",
    "    symmetries = int(autG.order())\n",
    "\n",
    "    cur.execute(\"UPDATE testgraphs SET symmetries = ? WHERE g6string = ?\", (symmetries, g6_string))\n",
    "\n",
    "rc.commit()  \n",
    "rc.close()\n"
   ]
  },
  {
   "cell_type": "code",
   "execution_count": null,
   "id": "f3ceb339",
   "metadata": {},
   "outputs": [],
   "source": [
    "import sqlite3\n",
    "\n",
    "rc = sqlite3.connect(\"/root/testgraphs.db\")\n",
    "cur = rc.cursor()\n",
    "cur.execute(\"SELECT g6string FROM testgraphs WHERE orbits IS NULL or orbits = ''\")\n",
    "rows = cur.fetchall()\n",
    "\n",
    "for row in rows:\n",
    "    g6_string = row[0]\n",
    "    G = Graph(g6_string)\n",
    "    autG = G.automorphism_group()\n",
    "    orbits = len(autG.orbits())\n",
    "    cur.execute(\"UPDATE testgraphs SET orbits = ? WHERE g6string = ?\", (orbits, g6_string))\n",
    "\n",
    "rc.commit()  \n",
    "rc.close()\n"
   ]
  },
  {
   "cell_type": "code",
   "execution_count": null,
   "id": "52e83d39",
   "metadata": {},
   "outputs": [],
   "source": []
  },
  {
   "cell_type": "code",
   "execution_count": null,
   "id": "09ae56f7",
   "metadata": {},
   "outputs": [],
   "source": []
  },
  {
   "cell_type": "code",
   "execution_count": null,
   "id": "01f08da5",
   "metadata": {},
   "outputs": [],
   "source": []
  },
  {
   "cell_type": "code",
   "execution_count": null,
   "id": "e6e86247",
   "metadata": {},
   "outputs": [],
   "source": []
  }
 ],
 "metadata": {
  "kernelspec": {
   "display_name": "SageMath 9.5",
   "language": "sage",
   "name": "sagemath"
  },
  "language_info": {
   "codemirror_mode": {
    "name": "ipython",
    "version": 3
   },
   "file_extension": ".py",
   "mimetype": "text/x-python",
   "name": "python",
   "nbconvert_exporter": "python",
   "pygments_lexer": "ipython3",
   "version": "3.10.12"
  }
 },
 "nbformat": 4,
 "nbformat_minor": 5
}
